{
 "cells": [
  {
   "cell_type": "code",
   "execution_count": 1,
   "metadata": {},
   "outputs": [],
   "source": [
    "# Operações.py\n",
    "\n",
    "import math\n",
    "\n",
    "def soma(a, b):\n",
    "  return a + b\n",
    "\n",
    "def subtracao(a, b):\n",
    "  return a - b\n",
    "\n",
    "def multiplicacao(a, b):\n",
    "  return a * b\n",
    "\n",
    "def divisao(a, b):\n",
    "  return a / b\n",
    "\n",
    "def potencia(a, b):\n",
    "  return a ** b\n",
    "\n",
    "def raiz_quadrada(a):\n",
    "  return math.sqrt(a)\n",
    "\n",
    "def logaritmo(a):\n",
    "  return math.log(a)"
   ]
  },
  {
   "cell_type": "code",
   "execution_count": 2,
   "metadata": {},
   "outputs": [
    {
     "name": "stdout",
     "output_type": "stream",
     "text": [
      "Selecione a operação desejada:\n",
      "1 - Soma\n",
      "2 - Subtração\n",
      "3 - Multiplicação\n",
      "4 - Divisão\n",
      "5 - Potenciação\n",
      "6 - Raiz Quadrada\n",
      "7 - Logaritmo\n",
      "O resultado da raiz quadrada é: 3.4641016151377544\n",
      "None\n"
     ]
    }
   ],
   "source": [
    "from operacoes import soma, subtracao, multiplicacao, divisao, potencia, raiz_quadrada, logaritmo\n",
    "\n",
    "def menu():\n",
    "  print(\"Selecione a operação desejada:\")\n",
    "  print(\"1 - Soma\")\n",
    "  print(\"2 - Subtração\")\n",
    "  print(\"3 - Multiplicação\")\n",
    "  print(\"4 - Divisão\")\n",
    "  print(\"5 - Potenciação\")\n",
    "  print(\"6 - Raiz Quadrada\")\n",
    "  print(\"7 - Logaritmo\")\n",
    "  opcao = int(input(\"Digite a opção desejada: \"))\n",
    "  return opcao\n",
    "\n",
    "def calculadora(): \n",
    "  opcao = menu()\n",
    "  if opcao == 1:\n",
    "    a = float(input(\"Digite o primeiro número: \"))\n",
    "    b = float(input(\"Digite o segundo número: \"))\n",
    "    resultado = soma(a, b)\n",
    "    print(\"O resultado da soma é:\", resultado)\n",
    "  elif opcao == 2:\n",
    "    a = float(input(\"Digite o primeiro número: \"))\n",
    "    b = float(input(\"Digite o segundo número: \"))\n",
    "    resultado = subtracao(a, b)\n",
    "    print(\"O resultado da subtração é:\", resultado)\n",
    "  elif opcao == 3:\n",
    "    a = float(input(\"Digite o primeiro número: \"))\n",
    "    b = float(input(\"Digite o segundo número: \"))\n",
    "    resultado = multiplicacao(a, b)\n",
    "    print(\"O resultado da multiplicação é:\", resultado)\n",
    "  elif opcao == 4:\n",
    "    a = float(input(\"Digite o primeiro número: \"))\n",
    "    b = float(input(\"Digite o segundo número: \"))\n",
    "    resultado = divisao(a, b)\n",
    "    print(\"O resultado da divisão é:\", resultado)\n",
    "  elif opcao == 5:\n",
    "    a = float(input(\"Digite o número base: \"))\n",
    "    b = float(input(\"Digite o expoente: \"))\n",
    "    resultado = potencia(a, b)\n",
    "    print(\"O resultado da potenciação é:\", resultado)\n",
    "  elif opcao == 6:\n",
    "    a = float(input(\"Digite o número: \"))\n",
    "    resultado = raiz_quadrada(a)\n",
    "    print(\"O resultado da raiz quadrada é:\", resultado)\n",
    "  elif opcao == 7:\n",
    "    a = float(input(\"Digite o número: \"))\n",
    "    resultado = logaritmo(a)\n",
    "    print(\"O resultado do logaritmo é:\", resultado)\n",
    "  else:\n",
    "    print(\"Opção inválida\")\n",
    "conta = calculadora()\n",
    "print(conta)\n"
   ]
  }
 ],
 "metadata": {
  "kernelspec": {
   "display_name": "Python 3",
   "language": "python",
   "name": "python3"
  },
  "language_info": {
   "codemirror_mode": {
    "name": "ipython",
    "version": 3
   },
   "file_extension": ".py",
   "mimetype": "text/x-python",
   "name": "python",
   "nbconvert_exporter": "python",
   "pygments_lexer": "ipython3",
   "version": "3.12.3"
  }
 },
 "nbformat": 4,
 "nbformat_minor": 2
}
